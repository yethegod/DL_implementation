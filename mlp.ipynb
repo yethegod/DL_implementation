{
  "nbformat": 4,
  "nbformat_minor": 0,
  "metadata": {
    "colab": {
      "provenance": [],
      "authorship_tag": "ABX9TyP4q5eQ2oMHoIUqB6wcoXLz",
      "include_colab_link": true
    },
    "kernelspec": {
      "name": "python3",
      "display_name": "Python 3"
    },
    "language_info": {
      "name": "python"
    }
  },
  "cells": [
    {
      "cell_type": "markdown",
      "metadata": {
        "id": "view-in-github",
        "colab_type": "text"
      },
      "source": [
        "<a href=\"https://colab.research.google.com/github/yethegod/MLP_implementation/blob/main/mlp.ipynb\" target=\"_parent\"><img src=\"https://colab.research.google.com/assets/colab-badge.svg\" alt=\"Open In Colab\"/></a>"
      ]
    },
    {
      "cell_type": "code",
      "execution_count": null,
      "metadata": {
        "id": "p4MiuuuvNkOW"
      },
      "outputs": [],
      "source": [
        "import torch\n",
        "import numpy as np\n",
        "import torch.nn as nn\n",
        "import torch.optim as optim\n",
        "from torchvision import datasets, transforms\n",
        "from torch.utils.data import DataLoader\n",
        "import matplotlib.pyplot as plt"
      ]
    },
    {
      "cell_type": "code",
      "source": [
        "batch_size = 64\n",
        "learning_rate = 0.01\n",
        "num_epochs = 10"
      ],
      "metadata": {
        "id": "QblXdwTTNupi"
      },
      "execution_count": null,
      "outputs": []
    },
    {
      "cell_type": "code",
      "source": [
        "transform = transforms.Compose([\n",
        "    transforms.ToTensor(),\n",
        "    transforms.Normalize((0.1307,), (0.3081,))  # MNIST数据集的均值和标准差\n",
        "])\n"
      ],
      "metadata": {
        "id": "f-SQ2EwENzJg"
      },
      "execution_count": null,
      "outputs": []
    },
    {
      "cell_type": "code",
      "source": [
        "train_dataset = datasets.MNIST(root='./data', train=True, download=True, transform=transform)\n",
        "test_dataset = datasets.MNIST(root='./data', train=False, download=True, transform=transform)\n",
        "\n",
        "train_loader = DataLoader(train_dataset, batch_size=batch_size, shuffle=True)\n",
        "test_loader = DataLoader(test_dataset, batch_size=batch_size, shuffle=False)"
      ],
      "metadata": {
        "colab": {
          "base_uri": "https://localhost:8080/"
        },
        "id": "7g8Y5e3rN6CZ",
        "outputId": "1384358f-9a20-43f7-e72b-4beaf2daa99a"
      },
      "execution_count": null,
      "outputs": [
        {
          "output_type": "stream",
          "name": "stdout",
          "text": [
            "Downloading http://yann.lecun.com/exdb/mnist/train-images-idx3-ubyte.gz\n",
            "Failed to download (trying next):\n",
            "HTTP Error 404: Not Found\n",
            "\n",
            "Downloading https://ossci-datasets.s3.amazonaws.com/mnist/train-images-idx3-ubyte.gz\n",
            "Downloading https://ossci-datasets.s3.amazonaws.com/mnist/train-images-idx3-ubyte.gz to ./data/MNIST/raw/train-images-idx3-ubyte.gz\n"
          ]
        },
        {
          "output_type": "stream",
          "name": "stderr",
          "text": [
            "100%|██████████| 9.91M/9.91M [00:02<00:00, 3.43MB/s]\n"
          ]
        },
        {
          "output_type": "stream",
          "name": "stdout",
          "text": [
            "Extracting ./data/MNIST/raw/train-images-idx3-ubyte.gz to ./data/MNIST/raw\n",
            "\n",
            "Downloading http://yann.lecun.com/exdb/mnist/train-labels-idx1-ubyte.gz\n",
            "Failed to download (trying next):\n",
            "HTTP Error 404: Not Found\n",
            "\n",
            "Downloading https://ossci-datasets.s3.amazonaws.com/mnist/train-labels-idx1-ubyte.gz\n",
            "Downloading https://ossci-datasets.s3.amazonaws.com/mnist/train-labels-idx1-ubyte.gz to ./data/MNIST/raw/train-labels-idx1-ubyte.gz\n"
          ]
        },
        {
          "output_type": "stream",
          "name": "stderr",
          "text": [
            "100%|██████████| 28.9k/28.9k [00:00<00:00, 159kB/s]\n"
          ]
        },
        {
          "output_type": "stream",
          "name": "stdout",
          "text": [
            "Extracting ./data/MNIST/raw/train-labels-idx1-ubyte.gz to ./data/MNIST/raw\n",
            "\n",
            "Downloading http://yann.lecun.com/exdb/mnist/t10k-images-idx3-ubyte.gz\n",
            "Failed to download (trying next):\n",
            "HTTP Error 404: Not Found\n",
            "\n",
            "Downloading https://ossci-datasets.s3.amazonaws.com/mnist/t10k-images-idx3-ubyte.gz\n",
            "Downloading https://ossci-datasets.s3.amazonaws.com/mnist/t10k-images-idx3-ubyte.gz to ./data/MNIST/raw/t10k-images-idx3-ubyte.gz\n"
          ]
        },
        {
          "output_type": "stream",
          "name": "stderr",
          "text": [
            "100%|██████████| 1.65M/1.65M [00:01<00:00, 1.51MB/s]\n"
          ]
        },
        {
          "output_type": "stream",
          "name": "stdout",
          "text": [
            "Extracting ./data/MNIST/raw/t10k-images-idx3-ubyte.gz to ./data/MNIST/raw\n",
            "\n",
            "Downloading http://yann.lecun.com/exdb/mnist/t10k-labels-idx1-ubyte.gz\n",
            "Failed to download (trying next):\n",
            "HTTP Error 404: Not Found\n",
            "\n",
            "Downloading https://ossci-datasets.s3.amazonaws.com/mnist/t10k-labels-idx1-ubyte.gz\n",
            "Downloading https://ossci-datasets.s3.amazonaws.com/mnist/t10k-labels-idx1-ubyte.gz to ./data/MNIST/raw/t10k-labels-idx1-ubyte.gz\n"
          ]
        },
        {
          "output_type": "stream",
          "name": "stderr",
          "text": [
            "100%|██████████| 4.54k/4.54k [00:00<00:00, 7.65MB/s]"
          ]
        },
        {
          "output_type": "stream",
          "name": "stdout",
          "text": [
            "Extracting ./data/MNIST/raw/t10k-labels-idx1-ubyte.gz to ./data/MNIST/raw\n",
            "\n"
          ]
        },
        {
          "output_type": "stream",
          "name": "stderr",
          "text": [
            "\n"
          ]
        }
      ]
    },
    {
      "cell_type": "code",
      "source": [
        "class MLP(nn.Module):\n",
        "    def __init__(self):\n",
        "        super(MLP, self).__init__()\n",
        "        self.flatten = nn.Flatten()\n",
        "        self.fc1 = nn.Linear(28 * 28, 256)\n",
        "        self.dropout1 = nn.Dropout(p=0.5)\n",
        "        self.fc2 = nn.Linear(256, 128)\n",
        "        self.dropout2 = nn.Dropout(p=0.5)\n",
        "        self.fc3 = nn.Linear(128, 10)\n",
        "\n",
        "    def forward(self, x):\n",
        "        x = self.flatten(x)  # 将图像展平为一维向量，大小为 28*28=784\n",
        "        x = torch.relu(self.fc1(x))\n",
        "        x = self.dropout1(x)  # 应用Dropout，防止过拟合\n",
        "        x = torch.relu(self.fc2(x))\n",
        "        x = self.dropout2(x)\n",
        "        x = self.fc3(x)  # 最后一层没有激活函数，后续会直接用于交叉熵损失计算\n",
        "        return x\n"
      ],
      "metadata": {
        "id": "zSLo3iGzN_7J"
      },
      "execution_count": null,
      "outputs": []
    },
    {
      "cell_type": "code",
      "source": [
        "device = torch.device(\"cuda\" if torch.cuda.is_available() else \"cpu\")\n",
        "model = MLP().to(device)\n",
        "criterion = nn.CrossEntropyLoss()\n",
        "optimizer = optim.Adam(model.parameters(), lr=learning_rate)\n"
      ],
      "metadata": {
        "id": "dfuxLENZOFbe"
      },
      "execution_count": null,
      "outputs": []
    },
    {
      "cell_type": "code",
      "source": [
        "def train(model, device, train_loader, optimizer, criterion, epoch):\n",
        "    model.train()  # 设置模型为训练模式（启用 Dropout）\n",
        "    running_loss = 0.0\n",
        "    for batch_idx, (data, target) in enumerate(train_loader):\n",
        "        data, target = data.to(device), target.to(device)\n",
        "        optimizer.zero_grad()  # 清除上一步的梯度\n",
        "        outputs = model(data)\n",
        "        loss = criterion(outputs, target)\n",
        "        loss.backward()\n",
        "        optimizer.step()\n",
        "\n",
        "        running_loss += loss.item()\n",
        "        if batch_idx % 100 == 0:\n",
        "            print(f\"Epoch [{epoch}], Step [{batch_idx}/{len(train_loader)}], Loss: {loss.item():.4f}\")\n",
        "    avg_loss = running_loss / len(train_loader)\n",
        "    print(f\"Epoch {epoch} Average Loss: {avg_loss:.4f}\")\n",
        "    return avg_loss  # 返回本轮训练的平均 loss\n"
      ],
      "metadata": {
        "id": "wgmWh3WCOH4M"
      },
      "execution_count": null,
      "outputs": []
    },
    {
      "cell_type": "code",
      "source": [
        "def test(model, device, test_loader, criterion):\n",
        "    model.eval()  # 设置模型为评估模式（关闭 Dropout）\n",
        "    test_loss = 0.0\n",
        "    correct = 0\n",
        "    with torch.no_grad():\n",
        "        for data, target in test_loader:\n",
        "            data, target = data.to(device), target.to(device)\n",
        "            outputs = model(data)\n",
        "            test_loss += criterion(outputs, target).item()\n",
        "            pred = outputs.argmax(dim=1, keepdim=True)\n",
        "            correct += pred.eq(target.view_as(pred)).sum().item()\n",
        "    test_loss /= len(test_loader)\n",
        "    accuracy = 100. * correct / len(test_loader.dataset)\n",
        "    print(f\"Test Loss: {test_loss:.4f}, Accuracy: {accuracy:.2f}%\")\n",
        "    return test_loss, accuracy\n"
      ],
      "metadata": {
        "id": "If5-bwrtOLK4"
      },
      "execution_count": null,
      "outputs": []
    },
    {
      "cell_type": "code",
      "source": [
        "train_losses = []\n",
        "test_losses = []\n",
        "test_accuracies = []\n",
        "\n",
        "num_epochs = 10  # 或其他你设定的训练轮数\n"
      ],
      "metadata": {
        "id": "u-swQwwFORhB"
      },
      "execution_count": null,
      "outputs": []
    },
    {
      "cell_type": "code",
      "source": [
        "for epoch in range(1, num_epochs + 1):\n",
        "    train_loss = train(model, device, train_loader, optimizer, criterion, epoch)\n",
        "    train_losses.append(train_loss)\n",
        "    test_loss, accuracy = test(model, device, test_loader, criterion)\n",
        "    test_losses.append(test_loss)\n",
        "    test_accuracies.append(accuracy)\n"
      ],
      "metadata": {
        "colab": {
          "base_uri": "https://localhost:8080/"
        },
        "id": "J05miODdOSkX",
        "outputId": "cf0d9716-868a-416a-a7b6-618639c868b7"
      },
      "execution_count": null,
      "outputs": [
        {
          "output_type": "stream",
          "name": "stdout",
          "text": [
            "Epoch [1], Step [0/938], Loss: 2.3348\n",
            "Epoch [1], Step [100/938], Loss: 0.7936\n",
            "Epoch [1], Step [200/938], Loss: 0.6336\n",
            "Epoch [1], Step [300/938], Loss: 1.1708\n",
            "Epoch [1], Step [400/938], Loss: 0.6889\n",
            "Epoch [1], Step [500/938], Loss: 0.7655\n",
            "Epoch [1], Step [600/938], Loss: 0.5306\n",
            "Epoch [1], Step [700/938], Loss: 0.4663\n",
            "Epoch [1], Step [800/938], Loss: 0.8506\n",
            "Epoch [1], Step [900/938], Loss: 0.7429\n",
            "Epoch 1 Average Loss: 0.8454\n",
            "Test Loss: 0.3964, Accuracy: 90.43%\n",
            "Epoch [2], Step [0/938], Loss: 0.9141\n",
            "Epoch [2], Step [100/938], Loss: 0.8292\n",
            "Epoch [2], Step [200/938], Loss: 0.4644\n",
            "Epoch [2], Step [300/938], Loss: 0.5900\n",
            "Epoch [2], Step [400/938], Loss: 0.4436\n",
            "Epoch [2], Step [500/938], Loss: 0.9622\n",
            "Epoch [2], Step [600/938], Loss: 0.7330\n",
            "Epoch [2], Step [700/938], Loss: 0.4897\n",
            "Epoch [2], Step [800/938], Loss: 0.4750\n",
            "Epoch [2], Step [900/938], Loss: 0.4394\n",
            "Epoch 2 Average Loss: 0.7989\n",
            "Test Loss: 0.3875, Accuracy: 91.28%\n",
            "Epoch [3], Step [0/938], Loss: 0.6239\n",
            "Epoch [3], Step [100/938], Loss: 0.6954\n",
            "Epoch [3], Step [200/938], Loss: 0.6527\n",
            "Epoch [3], Step [300/938], Loss: 1.1854\n",
            "Epoch [3], Step [400/938], Loss: 1.0422\n",
            "Epoch [3], Step [500/938], Loss: 0.5919\n",
            "Epoch [3], Step [600/938], Loss: 0.6081\n",
            "Epoch [3], Step [700/938], Loss: 0.5314\n",
            "Epoch [3], Step [800/938], Loss: 0.6920\n",
            "Epoch [3], Step [900/938], Loss: 1.0686\n",
            "Epoch 3 Average Loss: 0.7849\n",
            "Test Loss: 0.3636, Accuracy: 90.71%\n",
            "Epoch [4], Step [0/938], Loss: 0.7259\n",
            "Epoch [4], Step [100/938], Loss: 0.7631\n",
            "Epoch [4], Step [200/938], Loss: 0.5696\n",
            "Epoch [4], Step [300/938], Loss: 0.7687\n",
            "Epoch [4], Step [400/938], Loss: 0.7775\n",
            "Epoch [4], Step [500/938], Loss: 0.5460\n",
            "Epoch [4], Step [600/938], Loss: 0.5349\n",
            "Epoch [4], Step [700/938], Loss: 0.7973\n",
            "Epoch [4], Step [800/938], Loss: 0.5502\n",
            "Epoch [4], Step [900/938], Loss: 0.5351\n",
            "Epoch 4 Average Loss: 0.7879\n",
            "Test Loss: 0.3840, Accuracy: 90.17%\n",
            "Epoch [5], Step [0/938], Loss: 0.7447\n",
            "Epoch [5], Step [100/938], Loss: 1.0299\n",
            "Epoch [5], Step [200/938], Loss: 0.7070\n",
            "Epoch [5], Step [300/938], Loss: 1.4512\n",
            "Epoch [5], Step [400/938], Loss: 1.3636\n",
            "Epoch [5], Step [500/938], Loss: 0.6684\n",
            "Epoch [5], Step [600/938], Loss: 0.5287\n",
            "Epoch [5], Step [700/938], Loss: 0.8412\n",
            "Epoch [5], Step [800/938], Loss: 0.4566\n",
            "Epoch [5], Step [900/938], Loss: 0.9156\n",
            "Epoch 5 Average Loss: 0.7689\n",
            "Test Loss: 0.3708, Accuracy: 90.94%\n",
            "Epoch [6], Step [0/938], Loss: 0.7152\n",
            "Epoch [6], Step [100/938], Loss: 0.5858\n",
            "Epoch [6], Step [200/938], Loss: 0.5947\n",
            "Epoch [6], Step [300/938], Loss: 0.9586\n",
            "Epoch [6], Step [400/938], Loss: 0.6278\n",
            "Epoch [6], Step [500/938], Loss: 0.8682\n",
            "Epoch [6], Step [600/938], Loss: 0.6501\n",
            "Epoch [6], Step [700/938], Loss: 0.3820\n",
            "Epoch [6], Step [800/938], Loss: 0.6943\n",
            "Epoch [6], Step [900/938], Loss: 0.7262\n",
            "Epoch 6 Average Loss: 0.7607\n",
            "Test Loss: 0.3721, Accuracy: 91.15%\n",
            "Epoch [7], Step [0/938], Loss: 1.2589\n",
            "Epoch [7], Step [100/938], Loss: 0.4986\n",
            "Epoch [7], Step [200/938], Loss: 0.8143\n",
            "Epoch [7], Step [300/938], Loss: 0.5282\n",
            "Epoch [7], Step [400/938], Loss: 1.0458\n",
            "Epoch [7], Step [500/938], Loss: 0.8191\n",
            "Epoch [7], Step [600/938], Loss: 0.5594\n",
            "Epoch [7], Step [700/938], Loss: 0.7304\n",
            "Epoch [7], Step [800/938], Loss: 0.7513\n",
            "Epoch [7], Step [900/938], Loss: 0.5448\n",
            "Epoch 7 Average Loss: 0.7656\n",
            "Test Loss: 0.3647, Accuracy: 91.20%\n",
            "Epoch [8], Step [0/938], Loss: 0.6731\n",
            "Epoch [8], Step [100/938], Loss: 0.9860\n",
            "Epoch [8], Step [200/938], Loss: 0.5887\n",
            "Epoch [8], Step [300/938], Loss: 0.6932\n",
            "Epoch [8], Step [400/938], Loss: 0.8059\n",
            "Epoch [8], Step [500/938], Loss: 0.3663\n",
            "Epoch [8], Step [600/938], Loss: 0.7607\n",
            "Epoch [8], Step [700/938], Loss: 0.8543\n",
            "Epoch [8], Step [800/938], Loss: 0.7906\n",
            "Epoch [8], Step [900/938], Loss: 0.9667\n",
            "Epoch 8 Average Loss: 0.7698\n",
            "Test Loss: 0.3792, Accuracy: 91.44%\n",
            "Epoch [9], Step [0/938], Loss: 0.9140\n",
            "Epoch [9], Step [100/938], Loss: 0.7384\n",
            "Epoch [9], Step [200/938], Loss: 0.4555\n",
            "Epoch [9], Step [300/938], Loss: 0.6146\n",
            "Epoch [9], Step [400/938], Loss: 0.7156\n",
            "Epoch [9], Step [500/938], Loss: 0.6569\n",
            "Epoch [9], Step [600/938], Loss: 1.3555\n",
            "Epoch [9], Step [700/938], Loss: 0.4081\n",
            "Epoch [9], Step [800/938], Loss: 0.8054\n",
            "Epoch [9], Step [900/938], Loss: 0.9575\n",
            "Epoch 9 Average Loss: 0.7382\n",
            "Test Loss: 0.3740, Accuracy: 91.09%\n",
            "Epoch [10], Step [0/938], Loss: 0.8592\n",
            "Epoch [10], Step [100/938], Loss: 0.5815\n",
            "Epoch [10], Step [200/938], Loss: 0.5684\n",
            "Epoch [10], Step [300/938], Loss: 0.9478\n",
            "Epoch [10], Step [400/938], Loss: 0.4760\n",
            "Epoch [10], Step [500/938], Loss: 0.7360\n",
            "Epoch [10], Step [600/938], Loss: 0.6278\n",
            "Epoch [10], Step [700/938], Loss: 0.8172\n",
            "Epoch [10], Step [800/938], Loss: 0.6299\n",
            "Epoch [10], Step [900/938], Loss: 0.8130\n",
            "Epoch 10 Average Loss: 0.7413\n",
            "Test Loss: 0.3985, Accuracy: 90.24%\n"
          ]
        }
      ]
    },
    {
      "cell_type": "code",
      "source": [
        "# 绘制 Loss 和 Accuracy 图表\n",
        "epochs = range(1, num_epochs + 1)\n",
        "plt.figure(figsize=(12, 5))\n",
        "\n",
        "# 绘制 Loss 图表\n",
        "plt.subplot(1, 2, 1)\n",
        "plt.plot(epochs, train_losses, 'b-', label='Train Loss')\n",
        "plt.plot(epochs, test_losses, 'r-', label='Test Loss')\n",
        "plt.xlabel('Epoch')\n",
        "plt.ylabel('Loss')\n",
        "plt.title('Loss vs Epoch')\n",
        "plt.legend()\n",
        "\n",
        "# 绘制 Accuracy 图表\n",
        "plt.subplot(1, 2, 2)\n",
        "plt.plot(epochs, test_accuracies, 'g-', label='Test Accuracy')\n",
        "plt.xlabel('Epoch')\n",
        "plt.ylabel('Accuracy (%)')\n",
        "plt.title('Accuracy vs Epoch')\n",
        "plt.legend()\n",
        "\n",
        "plt.tight_layout()\n",
        "plt.show()"
      ],
      "metadata": {
        "colab": {
          "base_uri": "https://localhost:8080/",
          "height": 507
        },
        "id": "m8SdCjRqPOyy",
        "outputId": "2d6e64ad-03be-41b5-dc6e-ab14844cc194"
      },
      "execution_count": null,
      "outputs": [
        {
          "output_type": "display_data",
          "data": {
            "text/plain": [
              "<Figure size 1200x500 with 2 Axes>"
            ],
            "image/png": "[encoded data removed]"
          },
          "metadata": {}
        }
      ]
    }
  ]
}